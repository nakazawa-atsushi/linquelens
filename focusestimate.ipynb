{
 "cells": [
  {
   "cell_type": "code",
   "execution_count": 5,
   "id": "f093836e-d3a6-4ee8-84f6-42d74d2939ab",
   "metadata": {},
   "outputs": [],
   "source": [
    "# referenced from https://qiita.com/takubb/items/7d45ae701390912c7629\n",
    "import torch\n",
    "import torch.nn as nn\n",
    "import torch.optim as optim\n",
    "import torch.nn.functional as F\n",
    "from torchvision import transforms\n",
    "\n",
    "import random\n",
    "import numpy as np\n",
    "import matplotlib.pyplot as plt\n",
    "\n",
    "from PIL import Image\n",
    "\n",
    "# from tqdm import tqdm  #コマンドラインで実行するとき\n",
    "from tqdm.notebook import tqdm  # jupyter で実行するとき\n",
    "from models import RESNETLIKE, MyModel, MyModel_shallow"
   ]
  },
  {
   "cell_type": "code",
   "execution_count": 6,
   "id": "7561b123-cceb-4a89-b560-2314dc46ed72",
   "metadata": {},
   "outputs": [],
   "source": [
    "# リソースの指定（CPU/GPU）\n",
    "device = torch.device(\"cuda:0\" if torch.cuda.is_available() else \"cpu\")\n",
    "\n",
    "# 乱数シード固定（再現性の担保）\n",
    "def fix_seed(seed):\n",
    "    # random\n",
    "    random.seed(seed)\n",
    "    # numpy\n",
    "    np.random.seed(seed)\n",
    "    # pytorch\n",
    "    torch.manual_seed(seed)\n",
    "    torch.cuda.manual_seed_all(seed)\n",
    "    torch.backends.cudnn.deterministic = True\n",
    "    torch.backends.cudnn.benchmark = False\n",
    "\n",
    "#seed = 42\n",
    "#fix_seed(seed)\n",
    "\n",
    "# データローダーのサブプロセスの乱数seedが固定\n",
    "def worker_init_fn(worker_id):\n",
    "    np.random.seed(np.random.get_state()[1][0] + worker_id)"
   ]
  },
  {
   "cell_type": "code",
   "execution_count": 7,
   "id": "72020d7e-7827-401f-b3f4-b9ab250a9a51",
   "metadata": {},
   "outputs": [],
   "source": [
    "# データセットの作成\n",
    "import csv\n",
    "\n",
    "trans = transforms.Compose([\n",
    "    transforms.ToTensor()\n",
    "])\n",
    "\n",
    "STEP0 = 5\n",
    "STEP1 = 50\n",
    "\n",
    "class FocusPatchDataset(torch.utils.data.Dataset):\n",
    "    # FILEはデータが入っていたファイル、imsize = 画像サイズ、psize = パッチサイズ\n",
    "    def __init__(self, FILE, imsize, psize, channels, n_sample, transforms):\n",
    "        # load file\n",
    "        with open(FILE,'rt') as f:\n",
    "            reader = csv.reader(f)\n",
    "            data = [row for row in reader]\n",
    "\n",
    "        self.data = []\n",
    "        for i in range(len(data)-STEP1):\n",
    "            if channels == 2:\n",
    "                self.data.append([float(data[i][1]), data[i][2], data[i+STEP1][2]])\n",
    "            elif channels == 3:\n",
    "                self.data.append([float(data[i][1]), data[i][2], data[i+STEP0][2], data[i+STEP1][2]])\n",
    "            else:\n",
    "                print('channels is wrong.')\n",
    "                \n",
    "        self.psize = psize\n",
    "        self.channels = channels\n",
    "        self.transforms = transforms\n",
    "        self.n_sample = n_sample\n",
    "\n",
    "        self.imsize = imsize\n",
    "        self.psize = psize\n",
    "        self.locs = []\n",
    "\n",
    "        # サンプル対象となる点を設定する\n",
    "        w = imsize[0]\n",
    "        h = imsize[1]        \n",
    "        for i in range(self.n_sample):\n",
    "            xx = random.randint(0,w-self.psize)\n",
    "            yy = random.randint(0,h-self.psize)\n",
    "            self.locs.append([xx,yy])\n",
    "\n",
    "        print('locations', self.locs)\n",
    "    \n",
    "    def __len__(self):\n",
    "        return len(self.data * self.n_sample)\n",
    "\n",
    "    def __getitem__(self, index):\n",
    "        imgs = []\n",
    "\n",
    "        # n: file (data) index, m: point index\n",
    "        n = index // self.n_sample\n",
    "        m = index % self.n_sample\n",
    "\n",
    "        val = self.data[n][0]\n",
    "\n",
    "        x = self.locs[m][0]\n",
    "        y = self.locs[m][1]\n",
    "        \n",
    "        img = Image.open(self.data[n][1])\n",
    "        img = img.crop((x, y, x+self.psize, y+self.psize))\n",
    "        img = img.convert('L')\n",
    "        img = np.array(img)\n",
    "        img = np.array(img).astype('float32')\n",
    "        imgs.append(img)\n",
    "\n",
    "        img = Image.open(self.data[n][2])\n",
    "        img = img.crop((x, y, x+self.psize, y+self.psize))\n",
    "        img = img.convert('L')\n",
    "        img = np.array(img)\n",
    "        img = np.array(img).astype('float32')\n",
    "        imgs.append(img)\n",
    "        \n",
    "        out = np.stack(imgs,axis=2)\n",
    "        #print(out.shape)\n",
    "        \n",
    "        return self.transforms(out), val"
   ]
  },
  {
   "cell_type": "code",
   "execution_count": 8,
   "id": "e0502b77-4642-461a-9018-8e1aca510e4c",
   "metadata": {},
   "outputs": [
    {
     "name": "stdout",
     "output_type": "stream",
     "text": [
      "locations [[30, 373], [698, 927], [318, 526], [1226, 424], [1263, 1044], [223, 298], [1382, 618], [606, 1135], [1087, 898], [1284, 110], [913, 398], [40, 385], [444, 436], [632, 707], [0, 411], [754, 8], [208, 3], [710, 283], [740, 1109], [345, 603]]\n"
     ]
    }
   ],
   "source": [
    "dataset = FocusPatchDataset(\"202409191257-data.csv\", imsize = [1600,1200], psize=65, channels=2, n_sample=20, transforms = trans)\n",
    "train_set, test_set = torch.utils.data.random_split(dataset, [0.7,0.3])"
   ]
  },
  {
   "cell_type": "code",
   "execution_count": 9,
   "id": "778f5fdb-d8c1-4f5b-8b88-7da4d1144696",
   "metadata": {},
   "outputs": [],
   "source": [
    "# データローダーの作成\n",
    "train_loader = torch.utils.data.DataLoader(train_set,\n",
    "                                           batch_size=256,  # バッチサイズ\n",
    "                                           shuffle=True,  # データシャッフル\n",
    "                                           num_workers=0,  # 高速化\n",
    "                                           pin_memory=True  # 高速化                                      \n",
    "                                           )\n",
    "test_loader = torch.utils.data.DataLoader(test_set,\n",
    "                                          batch_size=256,\n",
    "                                          shuffle=True,\n",
    "                                          num_workers=0,  # 高速化\n",
    "                                          pin_memory=True  # 高速化                                                   \n",
    "                                          )"
   ]
  },
  {
   "cell_type": "code",
   "execution_count": 10,
   "id": "97bedb9b-4a0c-42e9-bfcd-f9a92ce76324",
   "metadata": {},
   "outputs": [
    {
     "name": "stderr",
     "output_type": "stream",
     "text": [
      "C:\\Users\\nakazawa\\AppData\\Local\\Temp\\ipykernel_22244\\4142534970.py:10: FutureWarning: You are using `torch.load` with `weights_only=False` (the current default value), which uses the default pickle module implicitly. It is possible to construct malicious pickle data which will execute arbitrary code during unpickling (See https://github.com/pytorch/pytorch/blob/main/SECURITY.md#untrusted-models for more details). In a future release, the default value for `weights_only` will be flipped to `True`. This limits the functions that could be executed during unpickling. Arbitrary objects will no longer be allowed to be loaded via this mode unless they are explicitly allowlisted by the user via `torch.serialization.add_safe_globals`. We recommend you start setting `weights_only=True` for any use case where you don't have full control of the loaded file. Please open an issue on GitHub for any issues related to this experimental feature.\n",
      "  model.load_state_dict(torch.load(path_saved_model))\n"
     ]
    }
   ],
   "source": [
    "# モデル・損失関数・最適化アルゴリスムの設定\n",
    "LOAD_WEIGHT = True\n",
    "# model = RESNETLIKE(channels=2).to(device)\n",
    "model = MyModel(channels=2)\n",
    "#model = MyModel_shallow(channels=2).to(device)\n",
    "\n",
    "if LOAD_WEIGHT == True:\n",
    "    # 学習済みモデルのロード\n",
    "    path_saved_model = \"./saved_model_Mymodel\"\n",
    "    model.load_state_dict(torch.load(path_saved_model))\n",
    "    model.eval()\n",
    "\n",
    "model = model.to(device)\n",
    "\n",
    "criterion = nn.L1Loss()\n",
    "optimizer = optim.Adam(model.parameters())\n",
    "#optimizer = optim.SGD(model.parameters())"
   ]
  },
  {
   "cell_type": "code",
   "execution_count": 12,
   "id": "8bb9093f-e719-40d6-ac97-d7b68864510a",
   "metadata": {},
   "outputs": [],
   "source": [
    "# モデル訓練関数\n",
    "def train_model(model, train_loader, test_loader):\n",
    "    # Train loop ----------------------------\n",
    "    model.train()  # 学習モードをオン\n",
    "    train_batch_loss = []\n",
    "    for data, val in train_loader:\n",
    "        # GPUへの転送\n",
    "        data, val = data.to(device), val.to(device)\n",
    "        # 1. 勾配リセット\n",
    "        optimizer.zero_grad()\n",
    "        # 2. 推論\n",
    "        output = model(data)\n",
    "        val = val.unsqueeze(1).to(torch.float32)\n",
    "        # 3. 誤差計算\n",
    "        loss = criterion(output, val)\n",
    "        # 4. 誤差逆伝播\n",
    "        loss.backward()\n",
    "        # 5. パラメータ更新\n",
    "        optimizer.step()\n",
    "        # train_lossの取得\n",
    "        train_batch_loss.append(loss.item())\n",
    "\n",
    "    # Test(val) loop ----------------------------\n",
    "    model.eval()  # 学習モードをオフ\n",
    "    test_batch_loss = []\n",
    "    with torch.no_grad():  # 勾配を計算なし\n",
    "        for data, val in test_loader:\n",
    "            data, val = data.to(device), val.to(device)\n",
    "            output = model(data)\n",
    "            val = val.unsqueeze(1).to(torch.float32)\n",
    "            loss = criterion(output, val)\n",
    "            test_batch_loss.append(loss.item())\n",
    "\n",
    "    return model, np.mean(train_batch_loss), np.mean(test_batch_loss)"
   ]
  },
  {
   "cell_type": "code",
   "execution_count": 13,
   "id": "f254e70f-c4ea-4905-aa17-d81055e9031c",
   "metadata": {},
   "outputs": [
    {
     "data": {
      "application/vnd.jupyter.widget-view+json": {
       "model_id": "505f704419834eef8a052debec2c77c7",
       "version_major": 2,
       "version_minor": 0
      },
      "text/plain": [
       "  0%|          | 0/50 [00:00<?, ?it/s]"
      ]
     },
     "metadata": {},
     "output_type": "display_data"
    },
    {
     "name": "stdout",
     "output_type": "stream",
     "text": [
      "Train loss: 4828.447, Test loss: 3457.464\n",
      "Train loss: 3178.282, Test loss: 2871.195\n",
      "Train loss: 2667.879, Test loss: 2479.436\n",
      "Train loss: 2540.929, Test loss: 2050.406\n",
      "Train loss: 2088.176, Test loss: 1857.510\n",
      "Train loss: 2021.319, Test loss: 1852.342\n",
      "Train loss: 1917.062, Test loss: 1581.147\n",
      "Train loss: 1668.754, Test loss: 1301.377\n",
      "Train loss: 1373.780, Test loss: 1131.693\n",
      "Train loss: 1197.054, Test loss: 1051.934\n",
      "Train loss: 1048.557, Test loss: 951.193\n",
      "Train loss: 1009.139, Test loss: 891.392\n",
      "Train loss: 1012.490, Test loss: 956.173\n",
      "Train loss: 1019.619, Test loss: 1065.303\n",
      "Train loss: 1126.876, Test loss: 942.673\n",
      "Train loss: 996.797, Test loss: 876.278\n",
      "Train loss: 843.810, Test loss: 721.959\n",
      "Train loss: 729.384, Test loss: 695.916\n",
      "Train loss: 728.266, Test loss: 684.618\n",
      "Train loss: 671.888, Test loss: 665.410\n",
      "Train loss: 649.134, Test loss: 690.174\n",
      "Train loss: 618.656, Test loss: 534.858\n",
      "Train loss: 594.468, Test loss: 611.658\n",
      "Train loss: 579.231, Test loss: 531.680\n",
      "Train loss: 503.992, Test loss: 597.174\n",
      "Train loss: 576.921, Test loss: 675.617\n",
      "Train loss: 611.116, Test loss: 906.221\n",
      "Train loss: 718.547, Test loss: 674.670\n",
      "Train loss: 588.366, Test loss: 567.485\n",
      "Train loss: 542.997, Test loss: 553.348\n",
      "Train loss: 517.478, Test loss: 474.249\n",
      "Train loss: 458.222, Test loss: 505.534\n",
      "Train loss: 430.083, Test loss: 486.654\n",
      "Train loss: 469.072, Test loss: 479.490\n",
      "Train loss: 454.883, Test loss: 559.445\n",
      "Train loss: 535.024, Test loss: 669.203\n",
      "Train loss: 579.530, Test loss: 648.071\n",
      "Train loss: 516.952, Test loss: 543.286\n",
      "Train loss: 479.161, Test loss: 543.315\n",
      "Train loss: 463.999, Test loss: 527.201\n",
      "Train loss: 444.770, Test loss: 441.740\n",
      "Train loss: 433.402, Test loss: 517.602\n",
      "Train loss: 435.437, Test loss: 429.282\n",
      "Train loss: 339.942, Test loss: 443.581\n",
      "Train loss: 342.943, Test loss: 393.992\n",
      "Train loss: 364.401, Test loss: 420.391\n",
      "Train loss: 452.185, Test loss: 591.931\n",
      "Train loss: 384.459, Test loss: 414.186\n",
      "Train loss: 356.976, Test loss: 388.246\n",
      "Train loss: 373.271, Test loss: 566.710\n"
     ]
    },
    {
     "data": {
      "text/plain": [
       "<matplotlib.legend.Legend at 0x25edc372870>"
      ]
     },
     "execution_count": 13,
     "metadata": {},
     "output_type": "execute_result"
    },
    {
     "data": {
      "image/png": "[encoded data removed]",
      "text/plain": [
       "<Figure size 640x480 with 1 Axes>"
      ]
     },
     "metadata": {},
     "output_type": "display_data"
    }
   ],
   "source": [
    "# 訓練の実行\n",
    "epoch = 50\n",
    "train_loss = []\n",
    "test_loss = []\n",
    "\n",
    "for epoch in tqdm(range(epoch)):\n",
    "    model, train_l, test_l = train_model(model,train_loader,test_loader)\n",
    "    train_loss.append(train_l)\n",
    "    test_loss.append(test_l)    \n",
    "    # 10エポックごとにロスを表示\n",
    "    #if epoch % 5 == 0:\n",
    "    print(f\"Train loss: {train_loss[-1]:.3f}, Test loss: {test_loss[-1]:.3f}\")\n",
    "\n",
    "# 学習状況（ロス）の確認\n",
    "plt.plot(train_loss, label='train_loss')\n",
    "plt.plot(test_loss, label='test_loss')\n",
    "plt.legend()"
   ]
  },
  {
   "cell_type": "code",
   "execution_count": 14,
   "id": "1aa840ff-af69-4657-8b47-7a1c65f0b6d9",
   "metadata": {},
   "outputs": [],
   "source": [
    "# 学習済みモデルの保存・ロード\n",
    "path_saved_model = \"./saved_model_Mymodel\"\n",
    "# モデルの保存\n",
    "torch.save(model.state_dict(), path_saved_model)"
   ]
  },
  {
   "cell_type": "code",
   "execution_count": 34,
   "id": "7c57166c-8ce5-443c-85bf-692fbb694af4",
   "metadata": {},
   "outputs": [
    {
     "name": "stdout",
     "output_type": "stream",
     "text": [
      "locations [[693, 882]]\n"
     ]
    }
   ],
   "source": [
    "# 学習済みモデルから予測結果と正解値を取得\n",
    "def retrieve_result(model, dataloader):\n",
    "    model.eval()\n",
    "    preds = []\n",
    "    labels = []\n",
    "    # Retreive prediction and labels\n",
    "    with torch.no_grad():\n",
    "        for data, label in dataloader:\n",
    "            data, label = data.to(device), label.to(device)\n",
    "            output = model(data)\n",
    "            # Collect data\n",
    "            preds.append(output)\n",
    "            labels.append(label)\n",
    "    # Flatten\n",
    "    preds = torch.cat(preds, axis=0)\n",
    "    labels = torch.cat(labels, axis=0)\n",
    "    # Returns as numpy (CPU環境の場合は不要)\n",
    "    preds = preds.cpu().detach().numpy()\n",
    "    labels = labels.cpu().detach().numpy()\n",
    "    return preds, labels\n",
    "\n",
    "\n",
    "# データを作って評価してみる\n",
    "dataset = FocusPatchDataset(\"202409191257-data.csv\", imsize = [1600,1200], psize=65, channels=2, n_sample=1, transforms = trans)\n",
    "test_loader = torch.utils.data.DataLoader(dataset, batch_size=256, shuffle=False)\n",
    "preds, labels = retrieve_result(model, test_loader)"
   ]
  },
  {
   "cell_type": "code",
   "execution_count": 35,
   "id": "fb2ca7e9-89c2-4ac7-b26f-74d4e1f40959",
   "metadata": {},
   "outputs": [
    {
     "data": {
      "text/plain": [
       "<matplotlib.legend.Legend at 0x295b43eaa80>"
      ]
     },
     "execution_count": 35,
     "metadata": {},
     "output_type": "execute_result"
    },
    {
     "data": {
      "image/png": "[encoded data removed]",
      "text/plain": [
       "<Figure size 640x480 with 1 Axes>"
      ]
     },
     "metadata": {},
     "output_type": "display_data"
    }
   ],
   "source": [
    "#for x,y in zip(preds,labels):\n",
    "#    print(x,y,abs(x-y))\n",
    "plt.plot(preds, label=\"prediction\")\n",
    "plt.plot(labels, label='ground truth')\n",
    "plt.legend()"
   ]
  },
  {
   "cell_type": "code",
   "execution_count": null,
   "id": "f751e122-6027-446f-9312-974abd85e2b7",
   "metadata": {},
   "outputs": [],
   "source": []
  }
 ],
 "metadata": {
  "kernelspec": {
   "display_name": "Python 3 (ipykernel)",
   "language": "python",
   "name": "python3"
  },
  "language_info": {
   "codemirror_mode": {
    "name": "ipython",
    "version": 3
   },
   "file_extension": ".py",
   "mimetype": "text/x-python",
   "name": "python",
   "nbconvert_exporter": "python",
   "pygments_lexer": "ipython3",
   "version": "3.12.6"
  }
 },
 "nbformat": 4,
 "nbformat_minor": 5
}
