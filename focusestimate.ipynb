{
 "cells": [
  {
   "cell_type": "code",
   "execution_count": 1,
   "id": "f093836e-d3a6-4ee8-84f6-42d74d2939ab",
   "metadata": {},
   "outputs": [],
   "source": [
    "# referenced from https://qiita.com/takubb/items/7d45ae701390912c7629\n",
    "import torch\n",
    "import torch.nn as nn\n",
    "import torch.optim as optim\n",
    "import torch.nn.functional as F\n",
    "from torchvision import transforms\n",
    "\n",
    "import os\n",
    "import random\n",
    "import glob\n",
    "import numpy as np\n",
    "import matplotlib.pyplot as plt\n",
    "import cv2\n",
    "import pickle\n",
    "\n",
    "from PIL import Image\n",
    "\n",
    "# from tqdm import tqdm  #コマンドラインで実行するとき\n",
    "from tqdm.notebook import tqdm  # jupyter で実行するとき\n",
    "from models import RESNETLIKE, MyModel, MyModel_shallow"
   ]
  },
  {
   "cell_type": "code",
   "execution_count": 2,
   "id": "7561b123-cceb-4a89-b560-2314dc46ed72",
   "metadata": {},
   "outputs": [],
   "source": [
    "# リソースの指定（CPU/GPU）\n",
    "device = torch.device(\"cuda:0\" if torch.cuda.is_available() else \"cpu\")"
   ]
  },
  {
   "cell_type": "code",
   "execution_count": 3,
   "id": "72020d7e-7827-401f-b3f4-b9ab250a9a51",
   "metadata": {},
   "outputs": [],
   "source": [
    "# データセットの作成\n",
    "trans = transforms.Compose([\n",
    "    transforms.ToTensor()\n",
    "])\n",
    "\n",
    "class FocusPatchDataset(torch.utils.data.Dataset):\n",
    "    # FILEはデータが入っていたファイル、imsize = 画像サイズ、psize = パッチサイズ\n",
    "    def __init__(self, DIR, imsize, psize, channels, DEPTH_GAP, n_sample, transforms):\n",
    "        \n",
    "        # ground truth depthを読み込む\n",
    "\n",
    "        with open(os.path.join(DIR,'depth.pkl'),\"rb\") as f:\n",
    "            self.gt = pickle.load(f)\n",
    "\n",
    "        if self.gt is None:\n",
    "            print('cannot find ', os.path.join(DIR,'depth.pkl'))\n",
    "            return None\n",
    "        \n",
    "        self.files = glob.glob(os.path.join(DIR,'[0-9]*.bmp'))\n",
    "        print(self.files)\n",
    "        self.fvalues = []\n",
    "        for fn in self.files:\n",
    "            self.fvalues.append(int(os.path.splitext(os.path.basename(fn))[0]))\n",
    "        self.fvalues.sort()\n",
    "        \n",
    "        self.DIR = DIR\n",
    "        self.DEPTH_GAP = DEPTH_GAP\n",
    "        self.psize = psize\n",
    "        self.channels = channels\n",
    "        self.transforms = transforms\n",
    "        self.n_sample = n_sample\n",
    "\n",
    "        self.imsize = imsize\n",
    "        self.psize = psize\n",
    "        self.locs = []\n",
    "\n",
    "        # サンプル対象となる点を設定する\n",
    "        w = imsize[0]\n",
    "        h = imsize[1]        \n",
    "        for i in range(self.n_sample):\n",
    "            xx = random.randint(0,w-self.psize)\n",
    "            yy = random.randint(0,h-self.psize)\n",
    "            self.locs.append([xx,yy])\n",
    "\n",
    "        print('locations', self.locs)\n",
    "    \n",
    "    def __len__(self):\n",
    "        length = (len(self.fvalues) - self.DEPTH_GAP)*self.n_sample\n",
    "        return length\n",
    "\n",
    "    def __getitem__(self, index):\n",
    "        imgs = []\n",
    "\n",
    "        # n: file (data) index, m: point index\n",
    "        n = index // self.n_sample\n",
    "        m = index % self.n_sample\n",
    "\n",
    "        # val = self.fvalues[n]\n",
    "\n",
    "        x = self.locs[m][0]\n",
    "        y = self.locs[m][1]\n",
    "\n",
    "        print(self.gt[y,x])\n",
    "        \n",
    "        val = float(self.gt[y,x]) - float(self.fvalues[n])\n",
    "\n",
    "        FILE1 = os.path.join(self.DIR,f'{self.fvalues[n]:04d}.bmp')\n",
    "        FILE2 = os.path.join(self.DIR,f'{self.fvalues[n+self.DEPTH_GAP]:04d}.bmp')\n",
    "\n",
    "        print(val,FILE1,FILE2,x,y)\n",
    "        \n",
    "        img = Image.open(FILE1)\n",
    "        img = img.crop((x, y, x+self.psize, y+self.psize))\n",
    "        img = img.convert('L')\n",
    "        img = np.array(img)\n",
    "        img = np.array(img).astype('float32')\n",
    "        imgs.append(img)\n",
    "\n",
    "        img = Image.open(FILE2)\n",
    "        img = img.crop((x, y, x+self.psize, y+self.psize))\n",
    "        img = img.convert('L')\n",
    "        img = np.array(img)\n",
    "        img = np.array(img).astype('float32')\n",
    "        imgs.append(img)\n",
    "        \n",
    "        out = np.stack(imgs,axis=2)\n",
    "        #print(out.shape)\n",
    "        \n",
    "        return self.transforms(out), val"
   ]
  },
  {
   "cell_type": "code",
   "execution_count": 4,
   "id": "e0502b77-4642-461a-9018-8e1aca510e4c",
   "metadata": {},
   "outputs": [
    {
     "ename": "FileNotFoundError",
     "evalue": "[Errno 2] No such file or directory: 'data/202410041747-new\\\\depth.pickle'",
     "output_type": "error",
     "traceback": [
      "\u001b[1;31m---------------------------------------------------------------------------\u001b[0m",
      "\u001b[1;31mFileNotFoundError\u001b[0m                         Traceback (most recent call last)",
      "Cell \u001b[1;32mIn[4], line 4\u001b[0m\n\u001b[0;32m      2\u001b[0m DEPTH_GAP \u001b[38;5;241m=\u001b[39m \u001b[38;5;241m50\u001b[39m\n\u001b[0;32m      3\u001b[0m N_SAMPLE \u001b[38;5;241m=\u001b[39m \u001b[38;5;241m20\u001b[39m\n\u001b[1;32m----> 4\u001b[0m dataset \u001b[38;5;241m=\u001b[39m \u001b[43mFocusPatchDataset\u001b[49m\u001b[43m(\u001b[49m\u001b[43mDIR\u001b[49m\u001b[43m \u001b[49m\u001b[38;5;241;43m=\u001b[39;49m\u001b[43m \u001b[49m\u001b[38;5;124;43m'\u001b[39;49m\u001b[38;5;124;43mdata/202410041747-new\u001b[39;49m\u001b[38;5;124;43m'\u001b[39;49m\u001b[43m,\u001b[49m\u001b[43m \u001b[49m\u001b[43mimsize\u001b[49m\u001b[43m \u001b[49m\u001b[38;5;241;43m=\u001b[39;49m\u001b[43m \u001b[49m\u001b[43m[\u001b[49m\u001b[38;5;241;43m1600\u001b[39;49m\u001b[43m,\u001b[49m\u001b[38;5;241;43m1200\u001b[39;49m\u001b[43m]\u001b[49m\u001b[43m,\u001b[49m\u001b[43m \u001b[49m\n\u001b[0;32m      5\u001b[0m \u001b[43m                            \u001b[49m\u001b[43mpsize\u001b[49m\u001b[38;5;241;43m=\u001b[39;49m\u001b[43mPSIZE\u001b[49m\u001b[43m,\u001b[49m\u001b[43m \u001b[49m\u001b[43mchannels\u001b[49m\u001b[38;5;241;43m=\u001b[39;49m\u001b[38;5;241;43m2\u001b[39;49m\u001b[43m,\u001b[49m\u001b[43m \u001b[49m\u001b[43mn_sample\u001b[49m\u001b[38;5;241;43m=\u001b[39;49m\u001b[43mN_SAMPLE\u001b[49m\u001b[43m,\u001b[49m\u001b[43m \u001b[49m\n\u001b[0;32m      6\u001b[0m \u001b[43m                            \u001b[49m\u001b[43mDEPTH_GAP\u001b[49m\u001b[38;5;241;43m=\u001b[39;49m\u001b[43mDEPTH_GAP\u001b[49m\u001b[43m,\u001b[49m\u001b[43m \u001b[49m\u001b[43mtransforms\u001b[49m\u001b[43m \u001b[49m\u001b[38;5;241;43m=\u001b[39;49m\u001b[43m \u001b[49m\u001b[43mtrans\u001b[49m\u001b[43m)\u001b[49m\n",
      "Cell \u001b[1;32mIn[3], line 12\u001b[0m, in \u001b[0;36mFocusPatchDataset.__init__\u001b[1;34m(self, DIR, imsize, psize, channels, DEPTH_GAP, n_sample, transforms)\u001b[0m\n\u001b[0;32m      8\u001b[0m \u001b[38;5;28;01mdef\u001b[39;00m \u001b[38;5;21m__init__\u001b[39m(\u001b[38;5;28mself\u001b[39m, DIR, imsize, psize, channels, DEPTH_GAP, n_sample, transforms):\n\u001b[0;32m      9\u001b[0m     \n\u001b[0;32m     10\u001b[0m     \u001b[38;5;66;03m# ground truth depthを読み込む\u001b[39;00m\n\u001b[1;32m---> 12\u001b[0m     \u001b[38;5;28;01mwith\u001b[39;00m \u001b[38;5;28;43mopen\u001b[39;49m\u001b[43m(\u001b[49m\u001b[43mos\u001b[49m\u001b[38;5;241;43m.\u001b[39;49m\u001b[43mpath\u001b[49m\u001b[38;5;241;43m.\u001b[39;49m\u001b[43mjoin\u001b[49m\u001b[43m(\u001b[49m\u001b[43mDIR\u001b[49m\u001b[43m,\u001b[49m\u001b[38;5;124;43m'\u001b[39;49m\u001b[38;5;124;43mdepth.pickle\u001b[39;49m\u001b[38;5;124;43m'\u001b[39;49m\u001b[43m)\u001b[49m\u001b[43m,\u001b[49m\u001b[38;5;124;43m\"\u001b[39;49m\u001b[38;5;124;43mrb\u001b[39;49m\u001b[38;5;124;43m\"\u001b[39;49m\u001b[43m)\u001b[49m \u001b[38;5;28;01mas\u001b[39;00m f:\n\u001b[0;32m     13\u001b[0m         \u001b[38;5;28mself\u001b[39m\u001b[38;5;241m.\u001b[39mgt \u001b[38;5;241m=\u001b[39m pickle\u001b[38;5;241m.\u001b[39mload(f)\n\u001b[0;32m     15\u001b[0m     \u001b[38;5;28;01mif\u001b[39;00m \u001b[38;5;28mself\u001b[39m\u001b[38;5;241m.\u001b[39mgt \u001b[38;5;129;01mis\u001b[39;00m \u001b[38;5;28;01mNone\u001b[39;00m:\n",
      "File \u001b[1;32m~\\OneDrive\\デスクトップ\\focusing\\venv\\Lib\\site-packages\\IPython\\core\\interactiveshell.py:324\u001b[0m, in \u001b[0;36m_modified_open\u001b[1;34m(file, *args, **kwargs)\u001b[0m\n\u001b[0;32m    317\u001b[0m \u001b[38;5;28;01mif\u001b[39;00m file \u001b[38;5;129;01min\u001b[39;00m {\u001b[38;5;241m0\u001b[39m, \u001b[38;5;241m1\u001b[39m, \u001b[38;5;241m2\u001b[39m}:\n\u001b[0;32m    318\u001b[0m     \u001b[38;5;28;01mraise\u001b[39;00m \u001b[38;5;167;01mValueError\u001b[39;00m(\n\u001b[0;32m    319\u001b[0m         \u001b[38;5;124mf\u001b[39m\u001b[38;5;124m\"\u001b[39m\u001b[38;5;124mIPython won\u001b[39m\u001b[38;5;124m'\u001b[39m\u001b[38;5;124mt let you open fd=\u001b[39m\u001b[38;5;132;01m{\u001b[39;00mfile\u001b[38;5;132;01m}\u001b[39;00m\u001b[38;5;124m by default \u001b[39m\u001b[38;5;124m\"\u001b[39m\n\u001b[0;32m    320\u001b[0m         \u001b[38;5;124m\"\u001b[39m\u001b[38;5;124mas it is likely to crash IPython. If you know what you are doing, \u001b[39m\u001b[38;5;124m\"\u001b[39m\n\u001b[0;32m    321\u001b[0m         \u001b[38;5;124m\"\u001b[39m\u001b[38;5;124myou can use builtins\u001b[39m\u001b[38;5;124m'\u001b[39m\u001b[38;5;124m open.\u001b[39m\u001b[38;5;124m\"\u001b[39m\n\u001b[0;32m    322\u001b[0m     )\n\u001b[1;32m--> 324\u001b[0m \u001b[38;5;28;01mreturn\u001b[39;00m \u001b[43mio_open\u001b[49m\u001b[43m(\u001b[49m\u001b[43mfile\u001b[49m\u001b[43m,\u001b[49m\u001b[43m \u001b[49m\u001b[38;5;241;43m*\u001b[39;49m\u001b[43margs\u001b[49m\u001b[43m,\u001b[49m\u001b[43m \u001b[49m\u001b[38;5;241;43m*\u001b[39;49m\u001b[38;5;241;43m*\u001b[39;49m\u001b[43mkwargs\u001b[49m\u001b[43m)\u001b[49m\n",
      "\u001b[1;31mFileNotFoundError\u001b[0m: [Errno 2] No such file or directory: 'data/202410041747-new\\\\depth.pickle'"
     ]
    }
   ],
   "source": [
    "PSIZE = 65\n",
    "DEPTH_GAP = 50\n",
    "N_SAMPLE = 20\n",
    "dataset = FocusPatchDataset(DIR = 'data/202410041747-new', imsize = [1600,1200], \n",
    "                            psize=PSIZE, channels=2, n_sample=N_SAMPLE, \n",
    "                            DEPTH_GAP=DEPTH_GAP, transforms = trans)"
   ]
  },
  {
   "cell_type": "code",
   "execution_count": 47,
   "id": "f141bb8e-defd-4e71-a237-c20380276d63",
   "metadata": {},
   "outputs": [
    {
     "data": {
      "text/plain": [
       "7020"
      ]
     },
     "execution_count": 47,
     "metadata": {},
     "output_type": "execute_result"
    }
   ],
   "source": [
    "train_set, test_set = torch.utils.data.random_split(dataset, [0.7,0.3])\n",
    "len(dataset)"
   ]
  },
  {
   "cell_type": "code",
   "execution_count": 48,
   "id": "778f5fdb-d8c1-4f5b-8b88-7da4d1144696",
   "metadata": {},
   "outputs": [],
   "source": [
    "# データローダーの作成\n",
    "train_loader = torch.utils.data.DataLoader(train_set,\n",
    "                                           batch_size=256,  # バッチサイズ\n",
    "                                           shuffle=True,  # データシャッフル\n",
    "                                           num_workers=0,  # 高速化\n",
    "                                           pin_memory=True  # 高速化                                      \n",
    "                                           )\n",
    "test_loader = torch.utils.data.DataLoader(test_set,\n",
    "                                          batch_size=256,\n",
    "                                          shuffle=True,\n",
    "                                          num_workers=0,  # 高速化\n",
    "                                          pin_memory=True  # 高速化                                                   \n",
    "                                          )"
   ]
  },
  {
   "cell_type": "code",
   "execution_count": 49,
   "id": "97bedb9b-4a0c-42e9-bfcd-f9a92ce76324",
   "metadata": {},
   "outputs": [],
   "source": [
    "# モデル・損失関数・最適化アルゴリスムの設定\n",
    "LOAD_WEIGHT = False\n",
    "# model = RESNETLIKE(channels=2).to(device)\n",
    "model = MyModel(channels=2)\n",
    "#model = MyModel_shallow(channels=2).to(device)\n",
    "weight_file = f\"weight/weight_{PSIZE}_{DEPTH_GAP}.pth\"\n",
    "\n",
    "if LOAD_WEIGHT == True:\n",
    "    # 学習済みモデルのロード\n",
    "    model.load_state_dict(torch.load(weight_file))\n",
    "    model.eval()\n",
    "\n",
    "model = model.to(device)\n",
    "\n",
    "criterion = nn.L1Loss()\n",
    "optimizer = optim.Adam(model.parameters())\n",
    "#optimizer = optim.SGD(model.parameters())"
   ]
  },
  {
   "cell_type": "code",
   "execution_count": 50,
   "id": "8bb9093f-e719-40d6-ac97-d7b68864510a",
   "metadata": {},
   "outputs": [],
   "source": [
    "# モデル訓練関数\n",
    "def train_model(model, train_loader, test_loader):\n",
    "    # Train loop ----------------------------\n",
    "    model.train()  # 学習モードをオン\n",
    "    train_batch_loss = []\n",
    "    for data, val in train_loader:\n",
    "        # GPUへの転送\n",
    "        data, val = data.to(device), val.to(device)\n",
    "        # 1. 勾配リセット\n",
    "        optimizer.zero_grad()\n",
    "        # 2. 推論\n",
    "        output = model(data)\n",
    "        val = val.unsqueeze(1).to(torch.float32)\n",
    "        # 3. 誤差計算\n",
    "        loss = criterion(output, val)\n",
    "        # 4. 誤差逆伝播\n",
    "        loss.backward()\n",
    "        # 5. パラメータ更新\n",
    "        optimizer.step()\n",
    "        # train_lossの取得\n",
    "        train_batch_loss.append(loss.item())\n",
    "\n",
    "    # Test(val) loop ----------------------------\n",
    "    model.eval()  # 学習モードをオフ\n",
    "    test_batch_loss = []\n",
    "    with torch.no_grad():  # 勾配を計算なし\n",
    "        for data, val in test_loader:\n",
    "            data, val = data.to(device), val.to(device)\n",
    "            output = model(data)\n",
    "            val = val.unsqueeze(1).to(torch.float32)\n",
    "            loss = criterion(output, val)\n",
    "            test_batch_loss.append(loss.item())\n",
    "\n",
    "    return model, np.mean(train_batch_loss), np.mean(test_batch_loss)"
   ]
  },
  {
   "cell_type": "code",
   "execution_count": 51,
   "id": "f254e70f-c4ea-4905-aa17-d81055e9031c",
   "metadata": {},
   "outputs": [
    {
     "data": {
      "application/vnd.jupyter.widget-view+json": {
       "model_id": "be200ed73b0d435582477e0322713139",
       "version_major": 2,
       "version_minor": 0
      },
      "text/plain": [
       "  0%|          | 0/50 [00:00<?, ?it/s]"
      ]
     },
     "metadata": {},
     "output_type": "display_data"
    },
    {
     "name": "stdout",
     "output_type": "stream",
     "text": [
      "[255 255 255]\n"
     ]
    },
    {
     "ename": "TypeError",
     "evalue": "only length-1 arrays can be converted to Python scalars",
     "output_type": "error",
     "traceback": [
      "\u001b[1;31m---------------------------------------------------------------------------\u001b[0m",
      "\u001b[1;31mTypeError\u001b[0m                                 Traceback (most recent call last)",
      "Cell \u001b[1;32mIn[51], line 7\u001b[0m\n\u001b[0;32m      4\u001b[0m test_loss \u001b[38;5;241m=\u001b[39m []\n\u001b[0;32m      6\u001b[0m \u001b[38;5;28;01mfor\u001b[39;00m epoch \u001b[38;5;129;01min\u001b[39;00m tqdm(\u001b[38;5;28mrange\u001b[39m(epoch)):\n\u001b[1;32m----> 7\u001b[0m     model, train_l, test_l \u001b[38;5;241m=\u001b[39m \u001b[43mtrain_model\u001b[49m\u001b[43m(\u001b[49m\u001b[43mmodel\u001b[49m\u001b[43m,\u001b[49m\u001b[43mtrain_loader\u001b[49m\u001b[43m,\u001b[49m\u001b[43mtest_loader\u001b[49m\u001b[43m)\u001b[49m\n\u001b[0;32m      8\u001b[0m     train_loss\u001b[38;5;241m.\u001b[39mappend(train_l)\n\u001b[0;32m      9\u001b[0m     test_loss\u001b[38;5;241m.\u001b[39mappend(test_l)    \n",
      "Cell \u001b[1;32mIn[50], line 6\u001b[0m, in \u001b[0;36mtrain_model\u001b[1;34m(model, train_loader, test_loader)\u001b[0m\n\u001b[0;32m      4\u001b[0m model\u001b[38;5;241m.\u001b[39mtrain()  \u001b[38;5;66;03m# 学習モードをオン\u001b[39;00m\n\u001b[0;32m      5\u001b[0m train_batch_loss \u001b[38;5;241m=\u001b[39m []\n\u001b[1;32m----> 6\u001b[0m \u001b[43m\u001b[49m\u001b[38;5;28;43;01mfor\u001b[39;49;00m\u001b[43m \u001b[49m\u001b[43mdata\u001b[49m\u001b[43m,\u001b[49m\u001b[43m \u001b[49m\u001b[43mval\u001b[49m\u001b[43m \u001b[49m\u001b[38;5;129;43;01min\u001b[39;49;00m\u001b[43m \u001b[49m\u001b[43mtrain_loader\u001b[49m\u001b[43m:\u001b[49m\n\u001b[0;32m      7\u001b[0m \u001b[43m    \u001b[49m\u001b[38;5;66;43;03m# GPUへの転送\u001b[39;49;00m\n\u001b[0;32m      8\u001b[0m \u001b[43m    \u001b[49m\u001b[43mdata\u001b[49m\u001b[43m,\u001b[49m\u001b[43m \u001b[49m\u001b[43mval\u001b[49m\u001b[43m \u001b[49m\u001b[38;5;241;43m=\u001b[39;49m\u001b[43m \u001b[49m\u001b[43mdata\u001b[49m\u001b[38;5;241;43m.\u001b[39;49m\u001b[43mto\u001b[49m\u001b[43m(\u001b[49m\u001b[43mdevice\u001b[49m\u001b[43m)\u001b[49m\u001b[43m,\u001b[49m\u001b[43m \u001b[49m\u001b[43mval\u001b[49m\u001b[38;5;241;43m.\u001b[39;49m\u001b[43mto\u001b[49m\u001b[43m(\u001b[49m\u001b[43mdevice\u001b[49m\u001b[43m)\u001b[49m\n\u001b[0;32m      9\u001b[0m \u001b[43m    \u001b[49m\u001b[38;5;66;43;03m# 1. 勾配リセット\u001b[39;49;00m\n",
      "File \u001b[1;32m~\\OneDrive\\デスクトップ\\focusing\\venv\\Lib\\site-packages\\torch\\utils\\data\\dataloader.py:630\u001b[0m, in \u001b[0;36m_BaseDataLoaderIter.__next__\u001b[1;34m(self)\u001b[0m\n\u001b[0;32m    627\u001b[0m \u001b[38;5;28;01mif\u001b[39;00m \u001b[38;5;28mself\u001b[39m\u001b[38;5;241m.\u001b[39m_sampler_iter \u001b[38;5;129;01mis\u001b[39;00m \u001b[38;5;28;01mNone\u001b[39;00m:\n\u001b[0;32m    628\u001b[0m     \u001b[38;5;66;03m# TODO(https://github.com/pytorch/pytorch/issues/76750)\u001b[39;00m\n\u001b[0;32m    629\u001b[0m     \u001b[38;5;28mself\u001b[39m\u001b[38;5;241m.\u001b[39m_reset()  \u001b[38;5;66;03m# type: ignore[call-arg]\u001b[39;00m\n\u001b[1;32m--> 630\u001b[0m data \u001b[38;5;241m=\u001b[39m \u001b[38;5;28;43mself\u001b[39;49m\u001b[38;5;241;43m.\u001b[39;49m\u001b[43m_next_data\u001b[49m\u001b[43m(\u001b[49m\u001b[43m)\u001b[49m\n\u001b[0;32m    631\u001b[0m \u001b[38;5;28mself\u001b[39m\u001b[38;5;241m.\u001b[39m_num_yielded \u001b[38;5;241m+\u001b[39m\u001b[38;5;241m=\u001b[39m \u001b[38;5;241m1\u001b[39m\n\u001b[0;32m    632\u001b[0m \u001b[38;5;28;01mif\u001b[39;00m \u001b[38;5;28mself\u001b[39m\u001b[38;5;241m.\u001b[39m_dataset_kind \u001b[38;5;241m==\u001b[39m _DatasetKind\u001b[38;5;241m.\u001b[39mIterable \u001b[38;5;129;01mand\u001b[39;00m \\\n\u001b[0;32m    633\u001b[0m         \u001b[38;5;28mself\u001b[39m\u001b[38;5;241m.\u001b[39m_IterableDataset_len_called \u001b[38;5;129;01mis\u001b[39;00m \u001b[38;5;129;01mnot\u001b[39;00m \u001b[38;5;28;01mNone\u001b[39;00m \u001b[38;5;129;01mand\u001b[39;00m \\\n\u001b[0;32m    634\u001b[0m         \u001b[38;5;28mself\u001b[39m\u001b[38;5;241m.\u001b[39m_num_yielded \u001b[38;5;241m>\u001b[39m \u001b[38;5;28mself\u001b[39m\u001b[38;5;241m.\u001b[39m_IterableDataset_len_called:\n",
      "File \u001b[1;32m~\\OneDrive\\デスクトップ\\focusing\\venv\\Lib\\site-packages\\torch\\utils\\data\\dataloader.py:673\u001b[0m, in \u001b[0;36m_SingleProcessDataLoaderIter._next_data\u001b[1;34m(self)\u001b[0m\n\u001b[0;32m    671\u001b[0m \u001b[38;5;28;01mdef\u001b[39;00m \u001b[38;5;21m_next_data\u001b[39m(\u001b[38;5;28mself\u001b[39m):\n\u001b[0;32m    672\u001b[0m     index \u001b[38;5;241m=\u001b[39m \u001b[38;5;28mself\u001b[39m\u001b[38;5;241m.\u001b[39m_next_index()  \u001b[38;5;66;03m# may raise StopIteration\u001b[39;00m\n\u001b[1;32m--> 673\u001b[0m     data \u001b[38;5;241m=\u001b[39m \u001b[38;5;28;43mself\u001b[39;49m\u001b[38;5;241;43m.\u001b[39;49m\u001b[43m_dataset_fetcher\u001b[49m\u001b[38;5;241;43m.\u001b[39;49m\u001b[43mfetch\u001b[49m\u001b[43m(\u001b[49m\u001b[43mindex\u001b[49m\u001b[43m)\u001b[49m  \u001b[38;5;66;03m# may raise StopIteration\u001b[39;00m\n\u001b[0;32m    674\u001b[0m     \u001b[38;5;28;01mif\u001b[39;00m \u001b[38;5;28mself\u001b[39m\u001b[38;5;241m.\u001b[39m_pin_memory:\n\u001b[0;32m    675\u001b[0m         data \u001b[38;5;241m=\u001b[39m _utils\u001b[38;5;241m.\u001b[39mpin_memory\u001b[38;5;241m.\u001b[39mpin_memory(data, \u001b[38;5;28mself\u001b[39m\u001b[38;5;241m.\u001b[39m_pin_memory_device)\n",
      "File \u001b[1;32m~\\OneDrive\\デスクトップ\\focusing\\venv\\Lib\\site-packages\\torch\\utils\\data\\_utils\\fetch.py:50\u001b[0m, in \u001b[0;36m_MapDatasetFetcher.fetch\u001b[1;34m(self, possibly_batched_index)\u001b[0m\n\u001b[0;32m     48\u001b[0m \u001b[38;5;28;01mif\u001b[39;00m \u001b[38;5;28mself\u001b[39m\u001b[38;5;241m.\u001b[39mauto_collation:\n\u001b[0;32m     49\u001b[0m     \u001b[38;5;28;01mif\u001b[39;00m \u001b[38;5;28mhasattr\u001b[39m(\u001b[38;5;28mself\u001b[39m\u001b[38;5;241m.\u001b[39mdataset, \u001b[38;5;124m\"\u001b[39m\u001b[38;5;124m__getitems__\u001b[39m\u001b[38;5;124m\"\u001b[39m) \u001b[38;5;129;01mand\u001b[39;00m \u001b[38;5;28mself\u001b[39m\u001b[38;5;241m.\u001b[39mdataset\u001b[38;5;241m.\u001b[39m__getitems__:\n\u001b[1;32m---> 50\u001b[0m         data \u001b[38;5;241m=\u001b[39m \u001b[38;5;28;43mself\u001b[39;49m\u001b[38;5;241;43m.\u001b[39;49m\u001b[43mdataset\u001b[49m\u001b[38;5;241;43m.\u001b[39;49m\u001b[43m__getitems__\u001b[49m\u001b[43m(\u001b[49m\u001b[43mpossibly_batched_index\u001b[49m\u001b[43m)\u001b[49m\n\u001b[0;32m     51\u001b[0m     \u001b[38;5;28;01melse\u001b[39;00m:\n\u001b[0;32m     52\u001b[0m         data \u001b[38;5;241m=\u001b[39m [\u001b[38;5;28mself\u001b[39m\u001b[38;5;241m.\u001b[39mdataset[idx] \u001b[38;5;28;01mfor\u001b[39;00m idx \u001b[38;5;129;01min\u001b[39;00m possibly_batched_index]\n",
      "File \u001b[1;32m~\\OneDrive\\デスクトップ\\focusing\\venv\\Lib\\site-packages\\torch\\utils\\data\\dataset.py:420\u001b[0m, in \u001b[0;36mSubset.__getitems__\u001b[1;34m(self, indices)\u001b[0m\n\u001b[0;32m    418\u001b[0m     \u001b[38;5;28;01mreturn\u001b[39;00m \u001b[38;5;28mself\u001b[39m\u001b[38;5;241m.\u001b[39mdataset\u001b[38;5;241m.\u001b[39m__getitems__([\u001b[38;5;28mself\u001b[39m\u001b[38;5;241m.\u001b[39mindices[idx] \u001b[38;5;28;01mfor\u001b[39;00m idx \u001b[38;5;129;01min\u001b[39;00m indices])  \u001b[38;5;66;03m# type: ignore[attr-defined]\u001b[39;00m\n\u001b[0;32m    419\u001b[0m \u001b[38;5;28;01melse\u001b[39;00m:\n\u001b[1;32m--> 420\u001b[0m     \u001b[38;5;28;01mreturn\u001b[39;00m [\u001b[38;5;28;43mself\u001b[39;49m\u001b[38;5;241;43m.\u001b[39;49m\u001b[43mdataset\u001b[49m\u001b[43m[\u001b[49m\u001b[38;5;28;43mself\u001b[39;49m\u001b[38;5;241;43m.\u001b[39;49m\u001b[43mindices\u001b[49m\u001b[43m[\u001b[49m\u001b[43midx\u001b[49m\u001b[43m]\u001b[49m\u001b[43m]\u001b[49m \u001b[38;5;28;01mfor\u001b[39;00m idx \u001b[38;5;129;01min\u001b[39;00m indices]\n",
      "Cell \u001b[1;32mIn[45], line 62\u001b[0m, in \u001b[0;36mFocusPatchDataset.__getitem__\u001b[1;34m(self, index)\u001b[0m\n\u001b[0;32m     58\u001b[0m y \u001b[38;5;241m=\u001b[39m \u001b[38;5;28mself\u001b[39m\u001b[38;5;241m.\u001b[39mlocs[m][\u001b[38;5;241m1\u001b[39m]\n\u001b[0;32m     60\u001b[0m \u001b[38;5;28mprint\u001b[39m(\u001b[38;5;28mself\u001b[39m\u001b[38;5;241m.\u001b[39mgt[y,x])\n\u001b[1;32m---> 62\u001b[0m val \u001b[38;5;241m=\u001b[39m \u001b[38;5;28;43mfloat\u001b[39;49m\u001b[43m(\u001b[49m\u001b[38;5;28;43mself\u001b[39;49m\u001b[38;5;241;43m.\u001b[39;49m\u001b[43mgt\u001b[49m\u001b[43m[\u001b[49m\u001b[43my\u001b[49m\u001b[43m,\u001b[49m\u001b[43mx\u001b[49m\u001b[43m]\u001b[49m\u001b[43m)\u001b[49m \u001b[38;5;241m-\u001b[39m \u001b[38;5;28mfloat\u001b[39m(\u001b[38;5;28mself\u001b[39m\u001b[38;5;241m.\u001b[39mfvalues[n])\n\u001b[0;32m     64\u001b[0m FILE1 \u001b[38;5;241m=\u001b[39m os\u001b[38;5;241m.\u001b[39mpath\u001b[38;5;241m.\u001b[39mjoin(\u001b[38;5;28mself\u001b[39m\u001b[38;5;241m.\u001b[39mDIR,\u001b[38;5;124mf\u001b[39m\u001b[38;5;124m'\u001b[39m\u001b[38;5;132;01m{\u001b[39;00m\u001b[38;5;28mself\u001b[39m\u001b[38;5;241m.\u001b[39mfvalues[n]\u001b[38;5;132;01m:\u001b[39;00m\u001b[38;5;124m04d\u001b[39m\u001b[38;5;132;01m}\u001b[39;00m\u001b[38;5;124m.bmp\u001b[39m\u001b[38;5;124m'\u001b[39m)\n\u001b[0;32m     65\u001b[0m FILE2 \u001b[38;5;241m=\u001b[39m os\u001b[38;5;241m.\u001b[39mpath\u001b[38;5;241m.\u001b[39mjoin(\u001b[38;5;28mself\u001b[39m\u001b[38;5;241m.\u001b[39mDIR,\u001b[38;5;124mf\u001b[39m\u001b[38;5;124m'\u001b[39m\u001b[38;5;132;01m{\u001b[39;00m\u001b[38;5;28mself\u001b[39m\u001b[38;5;241m.\u001b[39mfvalues[n\u001b[38;5;241m+\u001b[39m\u001b[38;5;28mself\u001b[39m\u001b[38;5;241m.\u001b[39mDEPTH_GAP]\u001b[38;5;132;01m:\u001b[39;00m\u001b[38;5;124m04d\u001b[39m\u001b[38;5;132;01m}\u001b[39;00m\u001b[38;5;124m.bmp\u001b[39m\u001b[38;5;124m'\u001b[39m)\n",
      "\u001b[1;31mTypeError\u001b[0m: only length-1 arrays can be converted to Python scalars"
     ]
    }
   ],
   "source": [
    "# 訓練の実行\n",
    "epoch = 50\n",
    "train_loss = []\n",
    "test_loss = []\n",
    "\n",
    "for epoch in tqdm(range(epoch)):\n",
    "    model, train_l, test_l = train_model(model,train_loader,test_loader)\n",
    "    train_loss.append(train_l)\n",
    "    test_loss.append(test_l)    \n",
    "    # 10エポックごとにロスを表示\n",
    "    #if epoch % 5 == 0:\n",
    "    print(f\"Train loss: {train_loss[-1]:.3f}, Test loss: {test_loss[-1]:.3f}\")\n",
    "\n",
    "# 学習状況（ロス）の確認\n",
    "plt.plot(train_loss, label='train_loss')\n",
    "plt.plot(test_loss, label='test_loss')\n",
    "plt.legend()"
   ]
  },
  {
   "cell_type": "code",
   "execution_count": 14,
   "id": "1aa840ff-af69-4657-8b47-7a1c65f0b6d9",
   "metadata": {},
   "outputs": [],
   "source": [
    "# 学習済みモデルの保存・ロード\n",
    "path_saved_model = \"./saved_model_Mymodel\"\n",
    "# モデルの保存\n",
    "torch.save(model.state_dict(), path_saved_model)"
   ]
  },
  {
   "cell_type": "code",
   "execution_count": 34,
   "id": "7c57166c-8ce5-443c-85bf-692fbb694af4",
   "metadata": {},
   "outputs": [
    {
     "name": "stdout",
     "output_type": "stream",
     "text": [
      "locations [[693, 882]]\n"
     ]
    }
   ],
   "source": [
    "# 学習済みモデルから予測結果と正解値を取得\n",
    "def retrieve_result(model, dataloader):\n",
    "    model.eval()\n",
    "    preds = []\n",
    "    labels = []\n",
    "    # Retreive prediction and labels\n",
    "    with torch.no_grad():\n",
    "        for data, label in dataloader:\n",
    "            data, label = data.to(device), label.to(device)\n",
    "            output = model(data)\n",
    "            # Collect data\n",
    "            preds.append(output)\n",
    "            labels.append(label)\n",
    "    # Flatten\n",
    "    preds = torch.cat(preds, axis=0)\n",
    "    labels = torch.cat(labels, axis=0)\n",
    "    # Returns as numpy (CPU環境の場合は不要)\n",
    "    preds = preds.cpu().detach().numpy()\n",
    "    labels = labels.cpu().detach().numpy()\n",
    "    return preds, labels\n",
    "\n",
    "\n",
    "# データを作って評価してみる\n",
    "dataset = FocusPatchDataset(\"202409191257-data.csv\", imsize = [1600,1200], psize=65, channels=2, n_sample=1, transforms = trans)\n",
    "test_loader = torch.utils.data.DataLoader(dataset, batch_size=256, shuffle=False)\n",
    "preds, labels = retrieve_result(model, test_loader)"
   ]
  },
  {
   "cell_type": "code",
   "execution_count": 35,
   "id": "fb2ca7e9-89c2-4ac7-b26f-74d4e1f40959",
   "metadata": {},
   "outputs": [
    {
     "data": {
      "text/plain": [
       "<matplotlib.legend.Legend at 0x295b43eaa80>"
      ]
     },
     "execution_count": 35,
     "metadata": {},
     "output_type": "execute_result"
    },
    {
     "data": {
      "image/png": "[encoded data removed]",
      "text/plain": [
       "<Figure size 640x480 with 1 Axes>"
      ]
     },
     "metadata": {},
     "output_type": "display_data"
    }
   ],
   "source": [
    "#for x,y in zip(preds,labels):\n",
    "#    print(x,y,abs(x-y))\n",
    "plt.plot(preds, label=\"prediction\")\n",
    "plt.plot(labels, label='ground truth')\n",
    "plt.legend()"
   ]
  },
  {
   "cell_type": "code",
   "execution_count": null,
   "id": "f751e122-6027-446f-9312-974abd85e2b7",
   "metadata": {},
   "outputs": [],
   "source": []
  }
 ],
 "metadata": {
  "kernelspec": {
   "display_name": "Python 3 (ipykernel)",
   "language": "python",
   "name": "python3"
  },
  "language_info": {
   "codemirror_mode": {
    "name": "ipython",
    "version": 3
   },
   "file_extension": ".py",
   "mimetype": "text/x-python",
   "name": "python",
   "nbconvert_exporter": "python",
   "pygments_lexer": "ipython3",
   "version": "3.12.7"
  }
 },
 "nbformat": 4,
 "nbformat_minor": 5
}
